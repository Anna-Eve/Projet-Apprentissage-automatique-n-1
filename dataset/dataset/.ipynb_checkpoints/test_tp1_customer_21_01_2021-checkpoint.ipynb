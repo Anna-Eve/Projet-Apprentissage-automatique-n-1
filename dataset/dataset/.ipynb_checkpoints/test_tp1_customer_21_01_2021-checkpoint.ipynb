{
 "cells": [
  {
   "cell_type": "code",
   "execution_count": 1,
   "metadata": {},
   "outputs": [],
   "source": [
    "import pandas as pd\n",
    "data_client = pd.read_csv(\"C:/tmp/tp1/Customer_abdenour.csv\")"
   ]
  },
  {
   "cell_type": "code",
   "execution_count": 2,
   "metadata": {},
   "outputs": [],
   "source": [
    "data_pays = pd.read_csv(\"C:/tmp/tp1/CountryPopulation_abdenour.csv\")"
   ]
  },
  {
   "cell_type": "code",
   "execution_count": 3,
   "metadata": {},
   "outputs": [],
   "source": [
    "data_pib = pd.read_csv(\"C:/tmp/tp1/CountryGDP_abdenour.csv\")"
   ]
  },
  {
   "cell_type": "code",
   "execution_count": 4,
   "metadata": {},
   "outputs": [
    {
     "name": "stdout",
     "output_type": "stream",
     "text": [
      "<class 'pandas.core.frame.DataFrame'>\n",
      "RangeIndex: 220 entries, 0 to 219\n",
      "Data columns (total 2 columns):\n",
      "Country       220 non-null object\n",
      "population    220 non-null int64\n",
      "dtypes: int64(1), object(1)\n",
      "memory usage: 3.5+ KB\n"
     ]
    }
   ],
   "source": [
    "data_pays.info()"
   ]
  },
  {
   "cell_type": "code",
   "execution_count": 5,
   "metadata": {},
   "outputs": [],
   "source": [
    "#il faut remarquer que la variable Country est ecrite en premiere lettre Capital\n",
    "#C qui n'est pas la meme que celle du dataset Data écrite en minscule \"country\"\n",
    "#important pour faire le merge\n",
    "# d'ou le renommage des colonnes\n",
    "\n",
    "\n",
    "data_pays.columns=['country','population']\n",
    "data_pib.columns =['country', 'GDP_inhab']"
   ]
  },
  {
   "cell_type": "code",
   "execution_count": 6,
   "metadata": {},
   "outputs": [],
   "source": [
    "#jointure entre le data et et le data_pib\n",
    "data_enrichie = pd.merge(data_client, data_pib)"
   ]
  },
  {
   "cell_type": "code",
   "execution_count": 7,
   "metadata": {},
   "outputs": [],
   "source": [
    "#jointure entre le data_enric avec data_pays qui fourmit la data qui sera\n",
    "#utilisee dans la suite de la démarche\n",
    "data= pd.merge(data_enrichie, data_pays)"
   ]
  },
  {
   "cell_type": "code",
   "execution_count": 8,
   "metadata": {},
   "outputs": [
    {
     "data": {
      "text/html": [
       "<div>\n",
       "<style scoped>\n",
       "    .dataframe tbody tr th:only-of-type {\n",
       "        vertical-align: middle;\n",
       "    }\n",
       "\n",
       "    .dataframe tbody tr th {\n",
       "        vertical-align: top;\n",
       "    }\n",
       "\n",
       "    .dataframe thead th {\n",
       "        text-align: right;\n",
       "    }\n",
       "</style>\n",
       "<table border=\"1\" class=\"dataframe\">\n",
       "  <thead>\n",
       "    <tr style=\"text-align: right;\">\n",
       "      <th></th>\n",
       "      <th>age</th>\n",
       "      <th>pages</th>\n",
       "      <th>first_item_prize</th>\n",
       "      <th>gender</th>\n",
       "      <th>ReBuy</th>\n",
       "      <th>News_click</th>\n",
       "      <th>country</th>\n",
       "      <th>revenue</th>\n",
       "      <th>GDP_inhab</th>\n",
       "      <th>population</th>\n",
       "    </tr>\n",
       "  </thead>\n",
       "  <tbody>\n",
       "    <tr>\n",
       "      <th>0</th>\n",
       "      <td>41</td>\n",
       "      <td>6</td>\n",
       "      <td>28.00000</td>\n",
       "      <td>Fem</td>\n",
       "      <td>False</td>\n",
       "      <td>4</td>\n",
       "      <td>China</td>\n",
       "      <td>113</td>\n",
       "      <td>9055</td>\n",
       "      <td>1360720000</td>\n",
       "    </tr>\n",
       "    <tr>\n",
       "      <th>1</th>\n",
       "      <td>34</td>\n",
       "      <td>4</td>\n",
       "      <td>15.50000</td>\n",
       "      <td>Fem</td>\n",
       "      <td>True</td>\n",
       "      <td>2</td>\n",
       "      <td>China</td>\n",
       "      <td>36</td>\n",
       "      <td>9055</td>\n",
       "      <td>1360720000</td>\n",
       "    </tr>\n",
       "    <tr>\n",
       "      <th>2</th>\n",
       "      <td>38</td>\n",
       "      <td>5</td>\n",
       "      <td>40.43173</td>\n",
       "      <td>Fem</td>\n",
       "      <td>False</td>\n",
       "      <td>7</td>\n",
       "      <td>China</td>\n",
       "      <td>111</td>\n",
       "      <td>9055</td>\n",
       "      <td>1360720000</td>\n",
       "    </tr>\n",
       "    <tr>\n",
       "      <th>3</th>\n",
       "      <td>20</td>\n",
       "      <td>1</td>\n",
       "      <td>44.00000</td>\n",
       "      <td>Fem</td>\n",
       "      <td>False</td>\n",
       "      <td>2</td>\n",
       "      <td>China</td>\n",
       "      <td>71</td>\n",
       "      <td>9055</td>\n",
       "      <td>1360720000</td>\n",
       "    </tr>\n",
       "    <tr>\n",
       "      <th>4</th>\n",
       "      <td>39</td>\n",
       "      <td>10</td>\n",
       "      <td>10.00000</td>\n",
       "      <td>Fem</td>\n",
       "      <td>True</td>\n",
       "      <td>4</td>\n",
       "      <td>China</td>\n",
       "      <td>80</td>\n",
       "      <td>9055</td>\n",
       "      <td>1360720000</td>\n",
       "    </tr>\n",
       "  </tbody>\n",
       "</table>\n",
       "</div>"
      ],
      "text/plain": [
       "   age  pages  first_item_prize gender  ReBuy  News_click country  revenue  \\\n",
       "0   41      6          28.00000    Fem  False           4   China      113   \n",
       "1   34      4          15.50000    Fem   True           2   China       36   \n",
       "2   38      5          40.43173    Fem  False           7   China      111   \n",
       "3   20      1          44.00000    Fem  False           2   China       71   \n",
       "4   39     10          10.00000    Fem   True           4   China       80   \n",
       "\n",
       "   GDP_inhab  population  \n",
       "0       9055  1360720000  \n",
       "1       9055  1360720000  \n",
       "2       9055  1360720000  \n",
       "3       9055  1360720000  \n",
       "4       9055  1360720000  "
      ]
     },
     "execution_count": 8,
     "metadata": {},
     "output_type": "execute_result"
    }
   ],
   "source": [
    "data.head()"
   ]
  },
  {
   "cell_type": "code",
   "execution_count": 9,
   "metadata": {},
   "outputs": [
    {
     "name": "stdout",
     "output_type": "stream",
     "text": [
      "<class 'pandas.core.frame.DataFrame'>\n",
      "Int64Index: 10000 entries, 0 to 9999\n",
      "Data columns (total 10 columns):\n",
      "age                 10000 non-null int64\n",
      "pages               10000 non-null int64\n",
      "first_item_prize    10000 non-null float64\n",
      "gender              10000 non-null object\n",
      "ReBuy               10000 non-null bool\n",
      "News_click          10000 non-null int64\n",
      "country             10000 non-null object\n",
      "revenue             10000 non-null int64\n",
      "GDP_inhab           10000 non-null int64\n",
      "population          10000 non-null int64\n",
      "dtypes: bool(1), float64(1), int64(6), object(2)\n",
      "memory usage: 791.0+ KB\n"
     ]
    }
   ],
   "source": [
    "data.info()"
   ]
  },
  {
   "cell_type": "code",
   "execution_count": 10,
   "metadata": {},
   "outputs": [
    {
     "data": {
      "text/html": [
       "<div>\n",
       "<style scoped>\n",
       "    .dataframe tbody tr th:only-of-type {\n",
       "        vertical-align: middle;\n",
       "    }\n",
       "\n",
       "    .dataframe tbody tr th {\n",
       "        vertical-align: top;\n",
       "    }\n",
       "\n",
       "    .dataframe thead th {\n",
       "        text-align: right;\n",
       "    }\n",
       "</style>\n",
       "<table border=\"1\" class=\"dataframe\">\n",
       "  <thead>\n",
       "    <tr style=\"text-align: right;\">\n",
       "      <th></th>\n",
       "      <th>age</th>\n",
       "      <th>pages</th>\n",
       "      <th>first_item_prize</th>\n",
       "      <th>News_click</th>\n",
       "      <th>revenue</th>\n",
       "      <th>GDP_inhab</th>\n",
       "      <th>population</th>\n",
       "    </tr>\n",
       "  </thead>\n",
       "  <tbody>\n",
       "    <tr>\n",
       "      <th>count</th>\n",
       "      <td>10000.000000</td>\n",
       "      <td>10000.000000</td>\n",
       "      <td>10000.000000</td>\n",
       "      <td>10000.000000</td>\n",
       "      <td>10000.000000</td>\n",
       "      <td>10000.000000</td>\n",
       "      <td>1.000000e+04</td>\n",
       "    </tr>\n",
       "    <tr>\n",
       "      <th>mean</th>\n",
       "      <td>37.431400</td>\n",
       "      <td>5.995000</td>\n",
       "      <td>40.431730</td>\n",
       "      <td>4.412000</td>\n",
       "      <td>122.792300</td>\n",
       "      <td>14324.660000</td>\n",
       "      <td>1.225020e+08</td>\n",
       "    </tr>\n",
       "    <tr>\n",
       "      <th>std</th>\n",
       "      <td>9.490474</td>\n",
       "      <td>2.438559</td>\n",
       "      <td>27.552155</td>\n",
       "      <td>2.418231</td>\n",
       "      <td>86.742722</td>\n",
       "      <td>13940.065257</td>\n",
       "      <td>2.486016e+08</td>\n",
       "    </tr>\n",
       "    <tr>\n",
       "      <th>min</th>\n",
       "      <td>18.000000</td>\n",
       "      <td>1.000000</td>\n",
       "      <td>10.000000</td>\n",
       "      <td>0.000000</td>\n",
       "      <td>1.000000</td>\n",
       "      <td>1055.000000</td>\n",
       "      <td>2.337752e+07</td>\n",
       "    </tr>\n",
       "    <tr>\n",
       "      <th>25%</th>\n",
       "      <td>31.000000</td>\n",
       "      <td>5.000000</td>\n",
       "      <td>22.000000</td>\n",
       "      <td>3.000000</td>\n",
       "      <td>59.000000</td>\n",
       "      <td>3056.000000</td>\n",
       "      <td>3.319060e+07</td>\n",
       "    </tr>\n",
       "    <tr>\n",
       "      <th>50%</th>\n",
       "      <td>37.000000</td>\n",
       "      <td>6.000000</td>\n",
       "      <td>42.000000</td>\n",
       "      <td>4.000000</td>\n",
       "      <td>100.000000</td>\n",
       "      <td>9279.000000</td>\n",
       "      <td>4.885383e+07</td>\n",
       "    </tr>\n",
       "    <tr>\n",
       "      <th>75%</th>\n",
       "      <td>43.000000</td>\n",
       "      <td>7.000000</td>\n",
       "      <td>44.000000</td>\n",
       "      <td>6.000000</td>\n",
       "      <td>164.000000</td>\n",
       "      <td>20562.000000</td>\n",
       "      <td>8.970890e+07</td>\n",
       "    </tr>\n",
       "    <tr>\n",
       "      <th>max</th>\n",
       "      <td>79.000000</td>\n",
       "      <td>14.000000</td>\n",
       "      <td>117.000000</td>\n",
       "      <td>10.000000</td>\n",
       "      <td>995.000000</td>\n",
       "      <td>51704.000000</td>\n",
       "      <td>1.360720e+09</td>\n",
       "    </tr>\n",
       "  </tbody>\n",
       "</table>\n",
       "</div>"
      ],
      "text/plain": [
       "                age         pages  first_item_prize    News_click  \\\n",
       "count  10000.000000  10000.000000      10000.000000  10000.000000   \n",
       "mean      37.431400      5.995000         40.431730      4.412000   \n",
       "std        9.490474      2.438559         27.552155      2.418231   \n",
       "min       18.000000      1.000000         10.000000      0.000000   \n",
       "25%       31.000000      5.000000         22.000000      3.000000   \n",
       "50%       37.000000      6.000000         42.000000      4.000000   \n",
       "75%       43.000000      7.000000         44.000000      6.000000   \n",
       "max       79.000000     14.000000        117.000000     10.000000   \n",
       "\n",
       "            revenue     GDP_inhab    population  \n",
       "count  10000.000000  10000.000000  1.000000e+04  \n",
       "mean     122.792300  14324.660000  1.225020e+08  \n",
       "std       86.742722  13940.065257  2.486016e+08  \n",
       "min        1.000000   1055.000000  2.337752e+07  \n",
       "25%       59.000000   3056.000000  3.319060e+07  \n",
       "50%      100.000000   9279.000000  4.885383e+07  \n",
       "75%      164.000000  20562.000000  8.970890e+07  \n",
       "max      995.000000  51704.000000  1.360720e+09  "
      ]
     },
     "execution_count": 10,
     "metadata": {},
     "output_type": "execute_result"
    }
   ],
   "source": [
    "data.describe()"
   ]
  },
  {
   "cell_type": "code",
   "execution_count": 11,
   "metadata": {},
   "outputs": [],
   "source": [
    "data['first_item_prize'] = pd.to_numeric(data[\"first_item_prize\"])"
   ]
  },
  {
   "cell_type": "code",
   "execution_count": 12,
   "metadata": {},
   "outputs": [
    {
     "data": {
      "text/html": [
       "<div>\n",
       "<style scoped>\n",
       "    .dataframe tbody tr th:only-of-type {\n",
       "        vertical-align: middle;\n",
       "    }\n",
       "\n",
       "    .dataframe tbody tr th {\n",
       "        vertical-align: top;\n",
       "    }\n",
       "\n",
       "    .dataframe thead th {\n",
       "        text-align: right;\n",
       "    }\n",
       "</style>\n",
       "<table border=\"1\" class=\"dataframe\">\n",
       "  <thead>\n",
       "    <tr style=\"text-align: right;\">\n",
       "      <th></th>\n",
       "      <th>age</th>\n",
       "      <th>pages</th>\n",
       "      <th>first_item_prize</th>\n",
       "      <th>gender</th>\n",
       "      <th>ReBuy</th>\n",
       "      <th>News_click</th>\n",
       "      <th>country</th>\n",
       "      <th>revenue</th>\n",
       "      <th>GDP_inhab</th>\n",
       "      <th>population</th>\n",
       "    </tr>\n",
       "  </thead>\n",
       "  <tbody>\n",
       "    <tr>\n",
       "      <th>0</th>\n",
       "      <td>41</td>\n",
       "      <td>6</td>\n",
       "      <td>28.00000</td>\n",
       "      <td>Fem</td>\n",
       "      <td>False</td>\n",
       "      <td>4</td>\n",
       "      <td>China</td>\n",
       "      <td>113</td>\n",
       "      <td>9055</td>\n",
       "      <td>1360720000</td>\n",
       "    </tr>\n",
       "    <tr>\n",
       "      <th>1</th>\n",
       "      <td>34</td>\n",
       "      <td>4</td>\n",
       "      <td>15.50000</td>\n",
       "      <td>Fem</td>\n",
       "      <td>True</td>\n",
       "      <td>2</td>\n",
       "      <td>China</td>\n",
       "      <td>36</td>\n",
       "      <td>9055</td>\n",
       "      <td>1360720000</td>\n",
       "    </tr>\n",
       "    <tr>\n",
       "      <th>2</th>\n",
       "      <td>38</td>\n",
       "      <td>5</td>\n",
       "      <td>40.43173</td>\n",
       "      <td>Fem</td>\n",
       "      <td>False</td>\n",
       "      <td>7</td>\n",
       "      <td>China</td>\n",
       "      <td>111</td>\n",
       "      <td>9055</td>\n",
       "      <td>1360720000</td>\n",
       "    </tr>\n",
       "    <tr>\n",
       "      <th>3</th>\n",
       "      <td>20</td>\n",
       "      <td>1</td>\n",
       "      <td>44.00000</td>\n",
       "      <td>Fem</td>\n",
       "      <td>False</td>\n",
       "      <td>2</td>\n",
       "      <td>China</td>\n",
       "      <td>71</td>\n",
       "      <td>9055</td>\n",
       "      <td>1360720000</td>\n",
       "    </tr>\n",
       "    <tr>\n",
       "      <th>4</th>\n",
       "      <td>39</td>\n",
       "      <td>10</td>\n",
       "      <td>10.00000</td>\n",
       "      <td>Fem</td>\n",
       "      <td>True</td>\n",
       "      <td>4</td>\n",
       "      <td>China</td>\n",
       "      <td>80</td>\n",
       "      <td>9055</td>\n",
       "      <td>1360720000</td>\n",
       "    </tr>\n",
       "  </tbody>\n",
       "</table>\n",
       "</div>"
      ],
      "text/plain": [
       "   age  pages  first_item_prize gender  ReBuy  News_click country  revenue  \\\n",
       "0   41      6          28.00000    Fem  False           4   China      113   \n",
       "1   34      4          15.50000    Fem   True           2   China       36   \n",
       "2   38      5          40.43173    Fem  False           7   China      111   \n",
       "3   20      1          44.00000    Fem  False           2   China       71   \n",
       "4   39     10          10.00000    Fem   True           4   China       80   \n",
       "\n",
       "   GDP_inhab  population  \n",
       "0       9055  1360720000  \n",
       "1       9055  1360720000  \n",
       "2       9055  1360720000  \n",
       "3       9055  1360720000  \n",
       "4       9055  1360720000  "
      ]
     },
     "execution_count": 12,
     "metadata": {},
     "output_type": "execute_result"
    }
   ],
   "source": [
    "data.head()"
   ]
  },
  {
   "cell_type": "code",
   "execution_count": 13,
   "metadata": {},
   "outputs": [
    {
     "name": "stdout",
     "output_type": "stream",
     "text": [
      "<class 'pandas.core.frame.DataFrame'>\n",
      "Int64Index: 10000 entries, 0 to 9999\n",
      "Data columns (total 10 columns):\n",
      "age                 10000 non-null int64\n",
      "pages               10000 non-null int64\n",
      "first_item_prize    10000 non-null float64\n",
      "gender              10000 non-null object\n",
      "ReBuy               10000 non-null bool\n",
      "News_click          10000 non-null int64\n",
      "country             10000 non-null object\n",
      "revenue             10000 non-null int64\n",
      "GDP_inhab           10000 non-null int64\n",
      "population          10000 non-null int64\n",
      "dtypes: bool(1), float64(1), int64(6), object(2)\n",
      "memory usage: 791.0+ KB\n"
     ]
    }
   ],
   "source": [
    "data.info()"
   ]
  },
  {
   "cell_type": "code",
   "execution_count": 14,
   "metadata": {},
   "outputs": [],
   "source": [
    "data['revenue'] = pd.to_numeric(data[\"revenue\"])"
   ]
  },
  {
   "cell_type": "code",
   "execution_count": 15,
   "metadata": {},
   "outputs": [
    {
     "data": {
      "text/plain": [
       "0    113\n",
       "1     36\n",
       "2    111\n",
       "3     71\n",
       "4     80\n",
       "5     42\n",
       "6     51\n",
       "Name: revenue, dtype: int64"
      ]
     },
     "execution_count": 15,
     "metadata": {},
     "output_type": "execute_result"
    }
   ],
   "source": [
    "data['revenue'].iloc[:7]"
   ]
  },
  {
   "cell_type": "code",
   "execution_count": 17,
   "metadata": {},
   "outputs": [
    {
     "name": "stdout",
     "output_type": "stream",
     "text": [
      "<class 'pandas.core.frame.DataFrame'>\n",
      "Int64Index: 10000 entries, 0 to 9999\n",
      "Data columns (total 10 columns):\n",
      "age                 10000 non-null int64\n",
      "pages               10000 non-null int64\n",
      "first_item_prize    10000 non-null float64\n",
      "gender              10000 non-null object\n",
      "ReBuy               10000 non-null bool\n",
      "News_click          10000 non-null int64\n",
      "country             10000 non-null object\n",
      "revenue             10000 non-null int64\n",
      "GDP_inhab           10000 non-null int64\n",
      "population          10000 non-null int64\n",
      "dtypes: bool(1), float64(1), int64(6), object(2)\n",
      "memory usage: 791.0+ KB\n"
     ]
    }
   ],
   "source": [
    "data.info()"
   ]
  },
  {
   "cell_type": "code",
   "execution_count": 18,
   "metadata": {},
   "outputs": [
    {
     "data": {
      "text/plain": [
       "False    7200\n",
       "True     2800\n",
       "Name: ReBuy, dtype: int64"
      ]
     },
     "execution_count": 18,
     "metadata": {},
     "output_type": "execute_result"
    }
   ],
   "source": [
    "data['ReBuy'].value_counts()"
   ]
  },
  {
   "cell_type": "code",
   "execution_count": 29,
   "metadata": {},
   "outputs": [
    {
     "data": {
      "image/png": "[encoded data removed]",
      "text/plain": [
       "<Figure size 1440x1080 with 9 Axes>"
      ]
     },
     "metadata": {},
     "output_type": "display_data"
    }
   ],
   "source": [
    "%matplotlib inline\n",
    "import matplotlib.pyplot as plt\n",
    "data.hist(bins=50, figsize=(20,15))\n",
    "plt.show()"
   ]
  },
  {
   "cell_type": "code",
   "execution_count": 20,
   "metadata": {},
   "outputs": [],
   "source": [
    "from sklearn.model_selection import train_test_split\n",
    "train_set, test_set = train_test_split(data, test_size=0.2, \n",
    "                                       random_state=42)"
   ]
  },
  {
   "cell_type": "code",
   "execution_count": 21,
   "metadata": {},
   "outputs": [
    {
     "data": {
      "text/html": [
       "<div>\n",
       "<style scoped>\n",
       "    .dataframe tbody tr th:only-of-type {\n",
       "        vertical-align: middle;\n",
       "    }\n",
       "\n",
       "    .dataframe tbody tr th {\n",
       "        vertical-align: top;\n",
       "    }\n",
       "\n",
       "    .dataframe thead th {\n",
       "        text-align: right;\n",
       "    }\n",
       "</style>\n",
       "<table border=\"1\" class=\"dataframe\">\n",
       "  <thead>\n",
       "    <tr style=\"text-align: right;\">\n",
       "      <th></th>\n",
       "      <th>age</th>\n",
       "      <th>pages</th>\n",
       "      <th>first_item_prize</th>\n",
       "      <th>gender</th>\n",
       "      <th>ReBuy</th>\n",
       "      <th>News_click</th>\n",
       "      <th>country</th>\n",
       "      <th>revenue</th>\n",
       "      <th>GDP_inhab</th>\n",
       "      <th>population</th>\n",
       "    </tr>\n",
       "  </thead>\n",
       "  <tbody>\n",
       "    <tr>\n",
       "      <th>9254</th>\n",
       "      <td>36</td>\n",
       "      <td>6</td>\n",
       "      <td>10.0</td>\n",
       "      <td>Masc</td>\n",
       "      <td>False</td>\n",
       "      <td>3</td>\n",
       "      <td>Ghana</td>\n",
       "      <td>14</td>\n",
       "      <td>3316</td>\n",
       "      <td>24658823</td>\n",
       "    </tr>\n",
       "    <tr>\n",
       "      <th>1561</th>\n",
       "      <td>36</td>\n",
       "      <td>6</td>\n",
       "      <td>22.0</td>\n",
       "      <td>Masc</td>\n",
       "      <td>True</td>\n",
       "      <td>4</td>\n",
       "      <td>Bangladesh</td>\n",
       "      <td>66</td>\n",
       "      <td>1963</td>\n",
       "      <td>152518015</td>\n",
       "    </tr>\n",
       "    <tr>\n",
       "      <th>1670</th>\n",
       "      <td>38</td>\n",
       "      <td>3</td>\n",
       "      <td>44.0</td>\n",
       "      <td>Fem</td>\n",
       "      <td>False</td>\n",
       "      <td>3</td>\n",
       "      <td>Russia</td>\n",
       "      <td>74</td>\n",
       "      <td>17518</td>\n",
       "      <td>143700000</td>\n",
       "    </tr>\n",
       "    <tr>\n",
       "      <th>6087</th>\n",
       "      <td>36</td>\n",
       "      <td>4</td>\n",
       "      <td>15.5</td>\n",
       "      <td>Masc</td>\n",
       "      <td>False</td>\n",
       "      <td>10</td>\n",
       "      <td>Argentina</td>\n",
       "      <td>116</td>\n",
       "      <td>17917</td>\n",
       "      <td>41660096</td>\n",
       "    </tr>\n",
       "    <tr>\n",
       "      <th>6669</th>\n",
       "      <td>40</td>\n",
       "      <td>4</td>\n",
       "      <td>15.5</td>\n",
       "      <td>Fem</td>\n",
       "      <td>False</td>\n",
       "      <td>7</td>\n",
       "      <td>Sudan</td>\n",
       "      <td>36</td>\n",
       "      <td>2549</td>\n",
       "      <td>37964000</td>\n",
       "    </tr>\n",
       "    <tr>\n",
       "      <th>5933</th>\n",
       "      <td>48</td>\n",
       "      <td>6</td>\n",
       "      <td>42.0</td>\n",
       "      <td>Fem</td>\n",
       "      <td>True</td>\n",
       "      <td>2</td>\n",
       "      <td>Kenya</td>\n",
       "      <td>44</td>\n",
       "      <td>1781</td>\n",
       "      <td>44354000</td>\n",
       "    </tr>\n",
       "    <tr>\n",
       "      <th>8829</th>\n",
       "      <td>39</td>\n",
       "      <td>6</td>\n",
       "      <td>22.0</td>\n",
       "      <td>Fem</td>\n",
       "      <td>True</td>\n",
       "      <td>4</td>\n",
       "      <td>Afghanistan</td>\n",
       "      <td>239</td>\n",
       "      <td>1055</td>\n",
       "      <td>25500100</td>\n",
       "    </tr>\n",
       "    <tr>\n",
       "      <th>7945</th>\n",
       "      <td>48</td>\n",
       "      <td>6</td>\n",
       "      <td>102.0</td>\n",
       "      <td>Fem</td>\n",
       "      <td>False</td>\n",
       "      <td>8</td>\n",
       "      <td>Uzbekistan</td>\n",
       "      <td>171</td>\n",
       "      <td>3523</td>\n",
       "      <td>30183400</td>\n",
       "    </tr>\n",
       "    <tr>\n",
       "      <th>3508</th>\n",
       "      <td>31</td>\n",
       "      <td>7</td>\n",
       "      <td>28.0</td>\n",
       "      <td>Fem</td>\n",
       "      <td>False</td>\n",
       "      <td>4</td>\n",
       "      <td>Turkey</td>\n",
       "      <td>97</td>\n",
       "      <td>14812</td>\n",
       "      <td>76667864</td>\n",
       "    </tr>\n",
       "    <tr>\n",
       "      <th>2002</th>\n",
       "      <td>45</td>\n",
       "      <td>6</td>\n",
       "      <td>44.0</td>\n",
       "      <td>Fem</td>\n",
       "      <td>False</td>\n",
       "      <td>6</td>\n",
       "      <td>Mexico</td>\n",
       "      <td>156</td>\n",
       "      <td>15363</td>\n",
       "      <td>118395054</td>\n",
       "    </tr>\n",
       "  </tbody>\n",
       "</table>\n",
       "</div>"
      ],
      "text/plain": [
       "      age  pages  first_item_prize gender  ReBuy  News_click      country  \\\n",
       "9254   36      6              10.0   Masc  False           3        Ghana   \n",
       "1561   36      6              22.0   Masc   True           4   Bangladesh   \n",
       "1670   38      3              44.0    Fem  False           3       Russia   \n",
       "6087   36      4              15.5   Masc  False          10    Argentina   \n",
       "6669   40      4              15.5    Fem  False           7        Sudan   \n",
       "5933   48      6              42.0    Fem   True           2        Kenya   \n",
       "8829   39      6              22.0    Fem   True           4  Afghanistan   \n",
       "7945   48      6             102.0    Fem  False           8   Uzbekistan   \n",
       "3508   31      7              28.0    Fem  False           4       Turkey   \n",
       "2002   45      6              44.0    Fem  False           6       Mexico   \n",
       "\n",
       "      revenue  GDP_inhab  population  \n",
       "9254       14       3316    24658823  \n",
       "1561       66       1963   152518015  \n",
       "1670       74      17518   143700000  \n",
       "6087      116      17917    41660096  \n",
       "6669       36       2549    37964000  \n",
       "5933       44       1781    44354000  \n",
       "8829      239       1055    25500100  \n",
       "7945      171       3523    30183400  \n",
       "3508       97      14812    76667864  \n",
       "2002      156      15363   118395054  "
      ]
     },
     "execution_count": 21,
     "metadata": {},
     "output_type": "execute_result"
    }
   ],
   "source": [
    "train_set.head(10)"
   ]
  },
  {
   "cell_type": "code",
   "execution_count": 22,
   "metadata": {},
   "outputs": [],
   "source": [
    "data = train_set.copy()"
   ]
  },
  {
   "cell_type": "code",
   "execution_count": 23,
   "metadata": {},
   "outputs": [
    {
     "data": {
      "text/plain": [
       "<matplotlib.axes._subplots.AxesSubplot at 0x202ea4883c8>"
      ]
     },
     "execution_count": 23,
     "metadata": {},
     "output_type": "execute_result"
    }
   ],
   "source": [
    "data.plot(kind=\"scatter\", x=\"age\", y=\"pages\")"
   ]
  },
  {
   "cell_type": "code",
   "execution_count": 27,
   "metadata": {},
   "outputs": [
    {
     "data": {
      "text/plain": [
       "<matplotlib.axes._subplots.AxesSubplot at 0x202ec4f3d30>"
      ]
     },
     "execution_count": 27,
     "metadata": {},
     "output_type": "execute_result"
    },
    {
     "data": {
      "image/png": "[encoded data removed]",
      "text/plain": [
       "<Figure size 432x288 with 1 Axes>"
      ]
     },
     "metadata": {},
     "output_type": "display_data"
    }
   ],
   "source": [
    "data.plot(kind=\"scatter\", x=\"age\", y=\"pages\", alpha=0.1)"
   ]
  },
  {
   "cell_type": "code",
   "execution_count": 30,
   "metadata": {},
   "outputs": [
    {
     "data": {
      "text/plain": [
       "<matplotlib.axes._subplots.AxesSubplot at 0x202ed0c3278>"
      ]
     },
     "execution_count": 30,
     "metadata": {},
     "output_type": "execute_result"
    },
    {
     "data": {
      "image/png": "[encoded data removed]",
      "text/plain": [
       "<Figure size 432x288 with 2 Axes>"
      ]
     },
     "metadata": {},
     "output_type": "display_data"
    }
   ],
   "source": [
    "data.plot(kind=\"scatter\", x=\"age\", y=\"pages\", alpha=0.4, \n",
    "                s=data['first_item_prize']/100, label=\"prize\",\n",
    "               c=\"revenue\", cmap=plt.get_cmap(\"jet\"), \n",
    "                colorbar=True)"
   ]
  },
  {
   "cell_type": "code",
   "execution_count": 31,
   "metadata": {},
   "outputs": [],
   "source": [
    "corr_matrix = data.corr()"
   ]
  },
  {
   "cell_type": "code",
   "execution_count": 32,
   "metadata": {},
   "outputs": [
    {
     "data": {
      "text/plain": [
       "revenue             1.000000\n",
       "News_click          0.374217\n",
       "GDP_inhab           0.373389\n",
       "first_item_prize    0.367357\n",
       "ReBuy               0.118527\n",
       "age                 0.022133\n",
       "pages              -0.010395\n",
       "population         -0.088099\n",
       "Name: revenue, dtype: float64"
      ]
     },
     "execution_count": 32,
     "metadata": {},
     "output_type": "execute_result"
    }
   ],
   "source": [
    "corr_matrix['revenue'].sort_values(ascending=False)"
   ]
  },
  {
   "cell_type": "code",
   "execution_count": 33,
   "metadata": {},
   "outputs": [],
   "source": [
    "data = train_set.drop(\"revenue\", axis=1)\n",
    "data_labels = train_set[\"revenue\"].copy()"
   ]
  },
  {
   "cell_type": "code",
   "execution_count": 34,
   "metadata": {},
   "outputs": [],
   "source": [
    "from sklearn.impute import SimpleImputer\n",
    "imputer = SimpleImputer(strategy=\"median\")"
   ]
  },
  {
   "cell_type": "code",
   "execution_count": 35,
   "metadata": {},
   "outputs": [
    {
     "name": "stdout",
     "output_type": "stream",
     "text": [
      "<class 'pandas.core.frame.DataFrame'>\n",
      "Int64Index: 8000 entries, 9254 to 7270\n",
      "Data columns (total 9 columns):\n",
      "age                 8000 non-null int64\n",
      "pages               8000 non-null int64\n",
      "first_item_prize    8000 non-null float64\n",
      "gender              8000 non-null object\n",
      "ReBuy               8000 non-null bool\n",
      "News_click          8000 non-null int64\n",
      "country             8000 non-null object\n",
      "GDP_inhab           8000 non-null int64\n",
      "population          8000 non-null int64\n",
      "dtypes: bool(1), float64(1), int64(5), object(2)\n",
      "memory usage: 570.3+ KB\n"
     ]
    }
   ],
   "source": [
    "data.info()"
   ]
  },
  {
   "cell_type": "code",
   "execution_count": 36,
   "metadata": {},
   "outputs": [],
   "source": [
    "data_num = data.drop(['gender','country'], axis=1)"
   ]
  },
  {
   "cell_type": "code",
   "execution_count": 37,
   "metadata": {},
   "outputs": [
    {
     "data": {
      "text/plain": [
       "SimpleImputer(strategy='median')"
      ]
     },
     "execution_count": 37,
     "metadata": {},
     "output_type": "execute_result"
    }
   ],
   "source": [
    "imputer.fit(data_num)"
   ]
  },
  {
   "cell_type": "code",
   "execution_count": 38,
   "metadata": {},
   "outputs": [
    {
     "data": {
      "text/plain": [
       "array([3.7000e+01, 6.0000e+00, 4.2000e+01, 0.0000e+00, 4.0000e+00,\n",
       "       9.5030e+03, 4.7488e+07])"
      ]
     },
     "execution_count": 38,
     "metadata": {},
     "output_type": "execute_result"
    }
   ],
   "source": [
    "imputer.statistics_"
   ]
  },
  {
   "cell_type": "code",
   "execution_count": 39,
   "metadata": {},
   "outputs": [],
   "source": [
    "X = imputer.transform(data_num)"
   ]
  },
  {
   "cell_type": "code",
   "execution_count": 40,
   "metadata": {},
   "outputs": [],
   "source": [
    "data_tr = pd.DataFrame(X, columns=data_num.columns)"
   ]
  },
  {
   "cell_type": "code",
   "execution_count": 41,
   "metadata": {},
   "outputs": [
    {
     "name": "stdout",
     "output_type": "stream",
     "text": [
      "<class 'pandas.core.frame.DataFrame'>\n",
      "RangeIndex: 8000 entries, 0 to 7999\n",
      "Data columns (total 7 columns):\n",
      "age                 8000 non-null float64\n",
      "pages               8000 non-null float64\n",
      "first_item_prize    8000 non-null float64\n",
      "ReBuy               8000 non-null float64\n",
      "News_click          8000 non-null float64\n",
      "GDP_inhab           8000 non-null float64\n",
      "population          8000 non-null float64\n",
      "dtypes: float64(7)\n",
      "memory usage: 437.6 KB\n"
     ]
    }
   ],
   "source": [
    "data_tr.info()"
   ]
  },
  {
   "cell_type": "code",
   "execution_count": 42,
   "metadata": {},
   "outputs": [],
   "source": [
    "from sklearn.preprocessing import OneHotEncoder\n",
    "encoder = OneHotEncoder()\n",
    "data_cat = data[['gender','country']]\n",
    "data_cat_1hot = encoder.fit_transform(data_cat)"
   ]
  },
  {
   "cell_type": "code",
   "execution_count": 43,
   "metadata": {},
   "outputs": [
    {
     "data": {
      "text/plain": [
       "<8000x52 sparse matrix of type '<class 'numpy.float64'>'\n",
       "\twith 16000 stored elements in Compressed Sparse Row format>"
      ]
     },
     "execution_count": 43,
     "metadata": {},
     "output_type": "execute_result"
    }
   ],
   "source": [
    "data_cat_1hot"
   ]
  },
  {
   "cell_type": "code",
   "execution_count": 44,
   "metadata": {},
   "outputs": [
    {
     "data": {
      "text/plain": [
       "array([[0., 1., 0., ..., 0., 0., 0.],\n",
       "       [0., 1., 0., ..., 0., 0., 0.],\n",
       "       [1., 0., 0., ..., 0., 0., 0.],\n",
       "       ...,\n",
       "       [0., 1., 0., ..., 0., 0., 0.],\n",
       "       [0., 1., 0., ..., 0., 0., 0.],\n",
       "       [0., 1., 0., ..., 0., 0., 0.]])"
      ]
     },
     "execution_count": 44,
     "metadata": {},
     "output_type": "execute_result"
    }
   ],
   "source": [
    "data_cat_1hot.toarray()"
   ]
  },
  {
   "cell_type": "code",
   "execution_count": 45,
   "metadata": {},
   "outputs": [
    {
     "data": {
      "text/plain": [
       "[array(['Fem', 'Masc'], dtype=object),\n",
       " array([\"'Saudi Arabia'\", \"'South Africa'\", \"'South Korea'\",\n",
       "        \"'United Kingdom'\", \"'United States'\", 'Afghanistan', 'Algeria',\n",
       "        'Argentina', 'Australia', 'Bangladesh', 'Brazil', 'Burma',\n",
       "        'Canada', 'China', 'Colombia', 'Egypt', 'Ethiopia', 'France',\n",
       "        'Germany', 'Ghana', 'India', 'Indonesia', 'Iran', 'Iraq', 'Italy',\n",
       "        'Japan', 'Kenya', 'Malaysia', 'Mexico', 'Morocco', 'Mozambique',\n",
       "        'Nepal', 'Nigeria', 'Pakistan', 'Peru', 'Philippines', 'Poland',\n",
       "        'Russia', 'Spain', 'Sudan', 'Taiwan', 'Tanzania', 'Thailand',\n",
       "        'Turkey', 'Uganda', 'Ukraine', 'Uzbekistan', 'Venezuela',\n",
       "        'Vietnam', 'Yemen'], dtype=object)]"
      ]
     },
     "execution_count": 45,
     "metadata": {},
     "output_type": "execute_result"
    }
   ],
   "source": [
    "encoder.categories_"
   ]
  },
  {
   "cell_type": "code",
   "execution_count": 46,
   "metadata": {},
   "outputs": [
    {
     "data": {
      "text/plain": [
       "Index(['age', 'pages', 'first_item_prize', 'gender', 'ReBuy', 'News_click',\n",
       "       'country', 'GDP_inhab', 'population'],\n",
       "      dtype='object')"
      ]
     },
     "execution_count": 46,
     "metadata": {},
     "output_type": "execute_result"
    }
   ],
   "source": [
    "data.columns"
   ]
  },
  {
   "cell_type": "markdown",
   "metadata": {},
   "source": [
    "## pas d'enrichissement. dans le devoir2 nous allons juste ajouter les 2 sources de données PIB et la popultaion"
   ]
  },
  {
   "cell_type": "code",
   "execution_count": 47,
   "metadata": {},
   "outputs": [],
   "source": [
    "from sklearn.pipeline import Pipeline\n",
    "from sklearn.preprocessing import StandardScaler\n",
    "\n",
    "num_pipeline = Pipeline([\n",
    "    ('imputer', SimpleImputer(strategy=\"median\")),\n",
    "    ('std_scaler', StandardScaler())\n",
    "    ])\n",
    "\n",
    "\n",
    "data_num_tr = num_pipeline.fit_transform(data_num)\n"
   ]
  },
  {
   "cell_type": "code",
   "execution_count": 48,
   "metadata": {},
   "outputs": [],
   "source": [
    "from sklearn.compose import ColumnTransformer\n",
    "\n",
    "num_attribs = list(data_num)\n",
    "cat_attribs = ['gender','country']\n",
    "\n",
    "full_pipeline = ColumnTransformer([\n",
    "        (\"num\", num_pipeline, num_attribs),\n",
    "        (\"cat\", OneHotEncoder(), cat_attribs),\n",
    "    ])\n",
    "\n",
    "data_preparee= full_pipeline.fit_transform(data)"
   ]
  },
  {
   "cell_type": "code",
   "execution_count": 49,
   "metadata": {},
   "outputs": [
    {
     "data": {
      "text/plain": [
       "(8000, 59)"
      ]
     },
     "execution_count": 49,
     "metadata": {},
     "output_type": "execute_result"
    }
   ],
   "source": [
    "data_preparee.shape"
   ]
  },
  {
   "cell_type": "code",
   "execution_count": 50,
   "metadata": {},
   "outputs": [
    {
     "data": {
      "text/plain": [
       "LinearRegression()"
      ]
     },
     "execution_count": 50,
     "metadata": {},
     "output_type": "execute_result"
    }
   ],
   "source": [
    "from sklearn.linear_model import LinearRegression\n",
    "\n",
    "lin_reg = LinearRegression()\n",
    "lin_reg.fit(data_preparee, data_labels)"
   ]
  },
  {
   "cell_type": "code",
   "execution_count": 51,
   "metadata": {},
   "outputs": [
    {
     "name": "stdout",
     "output_type": "stream",
     "text": [
      "Prédictions: [  4.87638649  59.91510918 101.73976663 174.22224979  62.48756556]\n",
      "étiquette: [14, 66, 74, 116, 36]\n"
     ]
    }
   ],
   "source": [
    "some_data = data.iloc[:5]\n",
    "some_labels = data_labels.iloc[:5]\n",
    "some_data_prepared = full_pipeline.transform(some_data)\n",
    "print(\"Prédictions:\", lin_reg.predict(some_data_prepared))\n",
    "print(\"étiquette:\", list(some_labels))"
   ]
  },
  {
   "cell_type": "code",
   "execution_count": 52,
   "metadata": {},
   "outputs": [
    {
     "data": {
      "text/plain": [
       "56.20528934380143"
      ]
     },
     "execution_count": 52,
     "metadata": {},
     "output_type": "execute_result"
    }
   ],
   "source": [
    "import numpy as np\n",
    "from sklearn.metrics import mean_squared_error\n",
    "data_predictions = lin_reg.predict(data_preparee)\n",
    "lin_mse = mean_squared_error(data_labels, data_predictions)\n",
    "lin_rmse = np.sqrt(lin_mse)\n",
    "lin_rmse"
   ]
  },
  {
   "cell_type": "code",
   "execution_count": 53,
   "metadata": {},
   "outputs": [
    {
     "data": {
      "text/plain": [
       "DecisionTreeRegressor()"
      ]
     },
     "execution_count": 53,
     "metadata": {},
     "output_type": "execute_result"
    }
   ],
   "source": [
    "from sklearn.tree import DecisionTreeRegressor\n",
    "tree_reg = DecisionTreeRegressor()\n",
    "tree_reg.fit(data_preparee, data_labels)"
   ]
  },
  {
   "cell_type": "code",
   "execution_count": 54,
   "metadata": {},
   "outputs": [
    {
     "data": {
      "text/plain": [
       "5.159233227912845"
      ]
     },
     "execution_count": 54,
     "metadata": {},
     "output_type": "execute_result"
    }
   ],
   "source": [
    "#maintenant que le modele est entrainé évaluons-le\n",
    "data_prediction =  tree_reg.predict(data_preparee)\n",
    "tree_mse = mean_squared_error(data_labels, data_prediction)\n",
    "tree_rmse = np.sqrt(tree_mse)\n",
    "tree_rmse"
   ]
  },
  {
   "cell_type": "code",
   "execution_count": 55,
   "metadata": {},
   "outputs": [],
   "source": [
    "#validation croisée\n",
    "from sklearn.model_selection import cross_val_score\n",
    "scores = cross_val_score(tree_reg, data_preparee, data_labels, \n",
    "                         scoring=\"neg_mean_squared_error\", cv = 10)\n",
    "tree_rmse_scores = np.sqrt(-scores)"
   ]
  },
  {
   "cell_type": "code",
   "execution_count": 56,
   "metadata": {},
   "outputs": [],
   "source": [
    "#examinons les résultats\n",
    "def display_scores(scores):\n",
    "    print(\"scores:\", scores)\n",
    "    print(\"moyenne:\", scores.mean())\n",
    "    print(\"Ecart-type:\", scores.std())"
   ]
  },
  {
   "cell_type": "code",
   "execution_count": 57,
   "metadata": {},
   "outputs": [
    {
     "name": "stdout",
     "output_type": "stream",
     "text": [
      "scores: [68.37759593 67.9097609  61.77309032 70.85677014 63.8020033  61.84912338\n",
      " 65.47517182 68.10184469 63.30347542 66.98933451]\n",
      "moyenne: 65.84381703955586\n",
      "Ecart-type: 2.9243014399158436\n"
     ]
    }
   ],
   "source": [
    "display_scores(tree_rmse_scores)"
   ]
  },
  {
   "cell_type": "code",
   "execution_count": 58,
   "metadata": {},
   "outputs": [
    {
     "data": {
      "text/plain": [
       "RandomForestRegressor()"
      ]
     },
     "execution_count": 58,
     "metadata": {},
     "output_type": "execute_result"
    }
   ],
   "source": [
    "# essayons un autres modele : foretAleatoire\n",
    "from sklearn.ensemble import RandomForestRegressor\n",
    "forest_reg = RandomForestRegressor()\n",
    "forest_reg.fit(data_preparee, data_labels)"
   ]
  },
  {
   "cell_type": "code",
   "execution_count": 63,
   "metadata": {},
   "outputs": [],
   "source": [
    "#validation croisée de RandomForest\n",
    "scores = cross_val_score(forest_reg, data_preparee, data_labels, \n",
    "                         scoring=\"neg_mean_squared_error\", cv = 10)\n",
    "forest_rmse_scores = np.sqrt(-scores)"
   ]
  },
  {
   "cell_type": "code",
   "execution_count": 64,
   "metadata": {},
   "outputs": [
    {
     "name": "stdout",
     "output_type": "stream",
     "text": [
      "scores: [48.6463299  50.0424357  45.56207985 51.79455281 46.40995496 47.49306707\n",
      " 50.75436738 50.57986814 48.13322735 48.98422476]\n",
      "moyenne: 48.84001079234773\n",
      "Ecart-type: 1.894442444005684\n"
     ]
    }
   ],
   "source": [
    "display_scores(forest_rmse_scores)"
   ]
  },
  {
   "cell_type": "code",
   "execution_count": 65,
   "metadata": {},
   "outputs": [
    {
     "data": {
      "text/plain": [
       "58.9049807250342"
      ]
     },
     "execution_count": 65,
     "metadata": {},
     "output_type": "execute_result"
    }
   ],
   "source": [
    "#essayons un autre modele SVM\n",
    "from sklearn.svm import SVR\n",
    "\n",
    "svm_reg = SVR(kernel=\"linear\")\n",
    "svm_reg.fit(data_preparee, data_labels)\n",
    "data_predictions = svm_reg.predict(data_preparee)\n",
    "svm_mse = mean_squared_error(data_labels, data_predictions)\n",
    "svm_rmse = np.sqrt(svm_mse)\n",
    "svm_rmse"
   ]
  },
  {
   "cell_type": "code",
   "execution_count": 66,
   "metadata": {},
   "outputs": [
    {
     "data": {
      "text/plain": [
       "['mod21_01_2021']"
      ]
     },
     "execution_count": 66,
     "metadata": {},
     "output_type": "execute_result"
    }
   ],
   "source": [
    "#la sauvegarde d'un modele svm_reg entrainé dans un fichier:\n",
    "from joblib import dump, load\n",
    "dump(svm_reg, 'mod21_01_2021')"
   ]
  },
  {
   "cell_type": "code",
   "execution_count": 214,
   "metadata": {},
   "outputs": [],
   "source": [
    "le_modele = load('mod21_01_2021') "
   ]
  },
  {
   "cell_type": "code",
   "execution_count": 215,
   "metadata": {},
   "outputs": [],
   "source": [
    "data_predictions = le_modele.predict(data_preparee)"
   ]
  },
  {
   "cell_type": "code",
   "execution_count": 216,
   "metadata": {},
   "outputs": [
    {
     "data": {
      "text/plain": [
       "58.9049807250342"
      ]
     },
     "execution_count": 216,
     "metadata": {},
     "output_type": "execute_result"
    }
   ],
   "source": [
    "svm_mse = mean_squared_error(data_labels, data_predictions)\n",
    "svm_rmse = np.sqrt(svm_mse)\n",
    "svm_rmse"
   ]
  },
  {
   "cell_type": "code",
   "execution_count": 67,
   "metadata": {},
   "outputs": [
    {
     "data": {
      "text/plain": [
       "GridSearchCV(cv=5, estimator=RandomForestRegressor(random_state=42),\n",
       "             param_grid=[{'max_features': [2, 4, 6, 8],\n",
       "                          'n_estimators': [3, 10, 30]},\n",
       "                         {'bootstrap': [False], 'max_features': [2, 3, 4],\n",
       "                          'n_estimators': [3, 10]}],\n",
       "             return_train_score=True, scoring='neg_mean_squared_error')"
      ]
     },
     "execution_count": 67,
     "metadata": {},
     "output_type": "execute_result"
    }
   ],
   "source": [
    "#reglage du modele : recherche par quadrillage\n",
    "from sklearn.model_selection import GridSearchCV\n",
    "from sklearn.ensemble import RandomForestRegressor\n",
    "param_grid = [\n",
    "    # essayer 12 (3×4) combinaison d'hyperparametres\n",
    "    {'n_estimators': [3, 10, 30], 'max_features': [2, 4, 6, 8]},\n",
    "    # Apres essayer 6 (2×3) combinaison avec bootstrap = False\n",
    "    {'bootstrap': [False], 'n_estimators': [3, 10], \n",
    "         'max_features': [2, 3, 4]},\n",
    "  ]\n",
    "forest_reg = RandomForestRegressor(random_state=42)\n",
    "# entrainer a travers 5 folds, \n",
    "#ce qui donne un total de (12+6)*5=90 roundes d'entrainement \n",
    "grid_search = GridSearchCV(forest_reg, param_grid, cv=5,\n",
    "                           scoring='neg_mean_squared_error', \n",
    "                            return_train_score=True)\n",
    "grid_search.fit(data_preparee, data_labels)"
   ]
  },
  {
   "cell_type": "code",
   "execution_count": 68,
   "metadata": {},
   "outputs": [
    {
     "data": {
      "text/plain": [
       "{'max_features': 8, 'n_estimators': 30}"
      ]
     },
     "execution_count": 68,
     "metadata": {},
     "output_type": "execute_result"
    }
   ],
   "source": [
    "#meilleur hyper-parametre\n",
    "grid_search.best_params_"
   ]
  },
  {
   "cell_type": "code",
   "execution_count": 69,
   "metadata": {},
   "outputs": [
    {
     "name": "stdout",
     "output_type": "stream",
     "text": [
      "58.78623633568858 {'max_features': 2, 'n_estimators': 3}\n",
      "53.59845049427987 {'max_features': 2, 'n_estimators': 10}\n",
      "51.8319957213133 {'max_features': 2, 'n_estimators': 30}\n",
      "57.52713279602489 {'max_features': 4, 'n_estimators': 3}\n",
      "52.12714431883409 {'max_features': 4, 'n_estimators': 10}\n",
      "50.67687722108947 {'max_features': 4, 'n_estimators': 30}\n",
      "57.49991552623962 {'max_features': 6, 'n_estimators': 3}\n",
      "52.610185041410105 {'max_features': 6, 'n_estimators': 10}\n",
      "50.69184272080678 {'max_features': 6, 'n_estimators': 30}\n",
      "56.56822644931336 {'max_features': 8, 'n_estimators': 3}\n",
      "51.63076757785702 {'max_features': 8, 'n_estimators': 10}\n",
      "50.19541483917766 {'max_features': 8, 'n_estimators': 30}\n",
      "59.513865120570905 {'bootstrap': False, 'max_features': 2, 'n_estimators': 3}\n",
      "55.202137187202474 {'bootstrap': False, 'max_features': 2, 'n_estimators': 10}\n",
      "60.02588538844443 {'bootstrap': False, 'max_features': 3, 'n_estimators': 3}\n",
      "55.23493892003503 {'bootstrap': False, 'max_features': 3, 'n_estimators': 10}\n",
      "58.37262780690393 {'bootstrap': False, 'max_features': 4, 'n_estimators': 3}\n",
      "54.25001545218674 {'bootstrap': False, 'max_features': 4, 'n_estimators': 10}\n"
     ]
    }
   ],
   "source": [
    "cvres = grid_search.cv_results_\n",
    "for mean_score, params in zip(cvres[\"mean_test_score\"], cvres[\"params\"]):\n",
    "    print(np.sqrt(-mean_score), params)"
   ]
  },
  {
   "cell_type": "code",
   "execution_count": 70,
   "metadata": {},
   "outputs": [],
   "source": [
    "#Evaluer votre systeme sur le jeu de test : test_set non nettoyé \n",
    "#en appliquant le pipeiine. D'ou l'intérêt du pipieline !\n",
    "final_model = grid_search.best_estimator_\n",
    "\n",
    "X_test = test_set.drop(\"revenue\", axis=1)\n",
    "y_test = test_set[\"revenue\"].copy()\n",
    "\n",
    "X_test_preparee = full_pipeline.transform(X_test)\n",
    "final_predictions = final_model.predict(X_test_preparee)\n",
    "\n",
    "final_mse = mean_squared_error(y_test, final_predictions)\n",
    "final_rmse = np.sqrt(final_mse)"
   ]
  },
  {
   "cell_type": "code",
   "execution_count": 71,
   "metadata": {},
   "outputs": [
    {
     "data": {
      "text/plain": [
       "48.31763339688505"
      ]
     },
     "execution_count": 71,
     "metadata": {},
     "output_type": "execute_result"
    }
   ],
   "source": [
    "final_rmse"
   ]
  },
  {
   "cell_type": "code",
   "execution_count": null,
   "metadata": {},
   "outputs": [],
   "source": []
  }
 ],
 "metadata": {
  "kernelspec": {
   "display_name": "Python 3",
   "language": "python",
   "name": "python3"
  },
  "language_info": {
   "codemirror_mode": {
    "name": "ipython",
    "version": 3
   },
   "file_extension": ".py",
   "mimetype": "text/x-python",
   "name": "python",
   "nbconvert_exporter": "python",
   "pygments_lexer": "ipython3",
   "version": "3.6.5"
  }
 },
 "nbformat": 4,
 "nbformat_minor": 2
}
